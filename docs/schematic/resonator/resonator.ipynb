{
 "cells": [
  {
   "cell_type": "markdown",
   "id": "540b5f0b",
   "metadata": {},
   "source": [
    "# Resonator\n",
    "\n",
    "- Recommended: \n",
    "\t- gm(min) = 7.5 mA/V\n",
    "\t- gm_crit_max = 1.5 mA/V\n",
    "\t- Frequency range: 4-48 V\n",
    "- Manufacturing Part Number: X322525MOB4SI - 25 MHz resonator."
   ]
  },
  {
   "cell_type": "code",
   "execution_count": 6,
   "id": "57da41c9",
   "metadata": {},
   "outputs": [
    {
     "name": "stdout",
     "output_type": "stream",
     "text": [
      "Load capacitances: Cl1 4.000000000000003pF, Cl2 4.000000000000003pF\n"
     ]
    }
   ],
   "source": [
    "import math\n",
    "### Example calculation: ABLS-8.000MHZ-20-B-3-H-T\n",
    "C_S = 10e-12 # PCB datasheet\n",
    "C_L = 12e-12 # Input load capacitance (resonator datasheet)\n",
    "\n",
    "# Assume C_L1 = C_L2\n",
    "C_L1 = (C_L - C_S)*2\n",
    "C_L2 = C_L1\n",
    "print(f\"Load capacitances: Cl1 {C_L1*1e12}pF, Cl2 {C_L2*1e12}pF\")"
   ]
  },
  {
   "cell_type": "code",
   "execution_count": null,
   "id": "ade8a702",
   "metadata": {},
   "outputs": [
    {
     "name": "stdout",
     "output_type": "stream",
     "text": [
      "Gain margin: (19.7892936801441 > 5) ? | g_m_crit: 0.000505323745335775\n"
     ]
    }
   ],
   "source": [
    "import math\n",
    "### Example calculation: ABLS-8.000MHZ-20-B-3-H-T\n",
    "C_0 = 7e-12 # Shunt capacitance (resonator datasheet)\n",
    "C_L = 12e-12 # Input load capacitance (resonator datasheet)\n",
    "ESR = 50 # (resonator datasheet)\n",
    "F_OSCILLATOR = 25e6\n",
    "trancond = 10e-3 # in A / V, oscillator transconductance (check stm32 datasheet for it)\n",
    "# Assume C_L1 = C_L2\n",
    "g_m_crit = 4 * ESR * (2 * math.pi * F_OSCILLATOR) ** 2 * (C_0 + C_L) **2\n",
    "GM = trancond / g_m_crit\n",
    "print(f\"Gain margin: ({GM} > 5) ? | g_m_crit: {g_m_crit}\")"
   ]
  },
  {
   "cell_type": "code",
   "execution_count": null,
   "id": "e25d72b0",
   "metadata": {},
   "outputs": [],
   "source": []
  }
 ],
 "metadata": {
  "kernelspec": {
   "display_name": "Python 3",
   "language": "python",
   "name": "python3"
  },
  "language_info": {
   "codemirror_mode": {
    "name": "ipython",
    "version": 3
   },
   "file_extension": ".py",
   "mimetype": "text/x-python",
   "name": "python",
   "nbconvert_exporter": "python",
   "pygments_lexer": "ipython3",
   "version": "3.12.3"
  }
 },
 "nbformat": 4,
 "nbformat_minor": 5
}
